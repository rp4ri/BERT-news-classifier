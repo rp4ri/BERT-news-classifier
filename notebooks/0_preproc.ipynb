{
 "cells": [
  {
   "cell_type": "markdown",
   "metadata": {},
   "source": [
    "# What we have here?\n",
    "\n",
    "This notebook gives a quick overview of the data we have. We will preprocess the data and save it to a new file in order to be able to use it in the next notebooks."
   ]
  },
  {
   "cell_type": "code",
   "execution_count": 24,
   "metadata": {},
   "outputs": [],
   "source": [
    "import pandas as pd\n",
    "\n",
    "from sklearn.model_selection import train_test_split"
   ]
  },
  {
   "cell_type": "markdown",
   "metadata": {},
   "source": [
    "### Overview"
   ]
  },
  {
   "cell_type": "code",
   "execution_count": 5,
   "metadata": {},
   "outputs": [
    {
     "name": "stdout",
     "output_type": "stream",
     "text": [
      "(92, 7)\n"
     ]
    },
    {
     "data": {
      "text/html": [
       "<div>\n",
       "<style scoped>\n",
       "    .dataframe tbody tr th:only-of-type {\n",
       "        vertical-align: middle;\n",
       "    }\n",
       "\n",
       "    .dataframe tbody tr th {\n",
       "        vertical-align: top;\n",
       "    }\n",
       "\n",
       "    .dataframe thead th {\n",
       "        text-align: right;\n",
       "    }\n",
       "</style>\n",
       "<table border=\"1\" class=\"dataframe\">\n",
       "  <thead>\n",
       "    <tr style=\"text-align: right;\">\n",
       "      <th></th>\n",
       "      <th>nombre</th>\n",
       "      <th>enlace</th>\n",
       "      <th>medio</th>\n",
       "      <th>fecha</th>\n",
       "      <th>titular</th>\n",
       "      <th>cuerpo</th>\n",
       "      <th>label</th>\n",
       "    </tr>\n",
       "  </thead>\n",
       "  <tbody>\n",
       "    <tr>\n",
       "      <th>0</th>\n",
       "      <td>Mónica Sofía Torres Campuzano</td>\n",
       "      <td>https://eldeber.com.bo/pais/la-asamblea-legisl...</td>\n",
       "      <td>eldeber.com.bo</td>\n",
       "      <td>2021-06-28</td>\n",
       "      <td>La Asamblea Legislativa inicia su receso hasta...</td>\n",
       "      <td>[La Asamblea Legislativa Plurinacional (ALP) c...</td>\n",
       "      <td>1</td>\n",
       "    </tr>\n",
       "    <tr>\n",
       "      <th>1</th>\n",
       "      <td>William Torrez Tordoya</td>\n",
       "      <td>https://eldeber.com.bo/bolivia/william-torres-...</td>\n",
       "      <td>eldeber.com.bo</td>\n",
       "      <td>2017-10-25</td>\n",
       "      <td>William Torres Tordoya: “La independencia de p...</td>\n",
       "      <td>[El ciclo de entrevistas a los postulantes jud...</td>\n",
       "      <td>1</td>\n",
       "    </tr>\n",
       "    <tr>\n",
       "      <th>2</th>\n",
       "      <td>Evert Cruz Quiroga</td>\n",
       "      <td>https://eldeber.com.bo/pais/el-killer-dice-que...</td>\n",
       "      <td>eldeber.com.bo</td>\n",
       "      <td>2022-02-19</td>\n",
       "      <td>“El Killer” dice que sabe quiénes tienen\\n los...</td>\n",
       "      <td>[Poco después de salir de las celdas de la Fel...</td>\n",
       "      <td>0</td>\n",
       "    </tr>\n",
       "    <tr>\n",
       "      <th>3</th>\n",
       "      <td>Laura Marlene Lujan Condori</td>\n",
       "      <td>https://eldeber.com.bo/pais/la-asamblea-legisl...</td>\n",
       "      <td>eldeber.com.bo</td>\n",
       "      <td>2021-06-28</td>\n",
       "      <td>La Asamblea Legislativa inicia su receso hasta...</td>\n",
       "      <td>[La Asamblea Legislativa Plurinacional (ALP) c...</td>\n",
       "      <td>1</td>\n",
       "    </tr>\n",
       "    <tr>\n",
       "      <th>4</th>\n",
       "      <td>Regis German  Richter  Alencar</td>\n",
       "      <td>https://eldeber.com.bo/mundo/un-sismo-de-57-gr...</td>\n",
       "      <td>eldeber.com.bo</td>\n",
       "      <td>2022-01-10</td>\n",
       "      <td>Un sismo de 5.7 grados en la escala de Richter...</td>\n",
       "      <td>[Tembló Tucumán. Este lunes un sismo de magnit...</td>\n",
       "      <td>0</td>\n",
       "    </tr>\n",
       "  </tbody>\n",
       "</table>\n",
       "</div>"
      ],
      "text/plain": [
       "                           nombre  \\\n",
       "0   Mónica Sofía Torres Campuzano   \n",
       "1          William Torrez Tordoya   \n",
       "2              Evert Cruz Quiroga   \n",
       "3     Laura Marlene Lujan Condori   \n",
       "4  Regis German  Richter  Alencar   \n",
       "\n",
       "                                              enlace           medio  \\\n",
       "0  https://eldeber.com.bo/pais/la-asamblea-legisl...  eldeber.com.bo   \n",
       "1  https://eldeber.com.bo/bolivia/william-torres-...  eldeber.com.bo   \n",
       "2  https://eldeber.com.bo/pais/el-killer-dice-que...  eldeber.com.bo   \n",
       "3  https://eldeber.com.bo/pais/la-asamblea-legisl...  eldeber.com.bo   \n",
       "4  https://eldeber.com.bo/mundo/un-sismo-de-57-gr...  eldeber.com.bo   \n",
       "\n",
       "        fecha                                            titular  \\\n",
       "0  2021-06-28  La Asamblea Legislativa inicia su receso hasta...   \n",
       "1  2017-10-25  William Torres Tordoya: “La independencia de p...   \n",
       "2  2022-02-19  “El Killer” dice que sabe quiénes tienen\\n los...   \n",
       "3  2021-06-28  La Asamblea Legislativa inicia su receso hasta...   \n",
       "4  2022-01-10  Un sismo de 5.7 grados en la escala de Richter...   \n",
       "\n",
       "                                              cuerpo  label  \n",
       "0  [La Asamblea Legislativa Plurinacional (ALP) c...      1  \n",
       "1  [El ciclo de entrevistas a los postulantes jud...      1  \n",
       "2  [Poco después de salir de las celdas de la Fel...      0  \n",
       "3  [La Asamblea Legislativa Plurinacional (ALP) c...      1  \n",
       "4  [Tembló Tucumán. Este lunes un sismo de magnit...      0  "
      ]
     },
     "execution_count": 5,
     "metadata": {},
     "output_type": "execute_result"
    }
   ],
   "source": [
    "# loading de data ../data/raw/sample-data.json\n",
    "news = pd.read_json('../data/raw/sample-data.json', lines=True)\n",
    "print(news.shape)\n",
    "news.head()"
   ]
  },
  {
   "cell_type": "code",
   "execution_count": 6,
   "metadata": {},
   "outputs": [
    {
     "name": "stdout",
     "output_type": "stream",
     "text": [
      "<class 'pandas.core.frame.DataFrame'>\n",
      "RangeIndex: 92 entries, 0 to 91\n",
      "Data columns (total 7 columns):\n",
      " #   Column   Non-Null Count  Dtype \n",
      "---  ------   --------------  ----- \n",
      " 0   nombre   92 non-null     object\n",
      " 1   enlace   92 non-null     object\n",
      " 2   medio    92 non-null     object\n",
      " 3   fecha    92 non-null     object\n",
      " 4   titular  92 non-null     object\n",
      " 5   cuerpo   92 non-null     object\n",
      " 6   label    92 non-null     int64 \n",
      "dtypes: int64(1), object(6)\n",
      "memory usage: 5.2+ KB\n"
     ]
    }
   ],
   "source": [
    "news.info()"
   ]
  },
  {
   "cell_type": "markdown",
   "metadata": {},
   "source": [
    "### Preproc"
   ]
  },
  {
   "cell_type": "code",
   "execution_count": 7,
   "metadata": {},
   "outputs": [
    {
     "data": {
      "text/html": [
       "<div>\n",
       "<style scoped>\n",
       "    .dataframe tbody tr th:only-of-type {\n",
       "        vertical-align: middle;\n",
       "    }\n",
       "\n",
       "    .dataframe tbody tr th {\n",
       "        vertical-align: top;\n",
       "    }\n",
       "\n",
       "    .dataframe thead th {\n",
       "        text-align: right;\n",
       "    }\n",
       "</style>\n",
       "<table border=\"1\" class=\"dataframe\">\n",
       "  <thead>\n",
       "    <tr style=\"text-align: right;\">\n",
       "      <th></th>\n",
       "      <th>titular</th>\n",
       "      <th>cuerpo</th>\n",
       "      <th>label</th>\n",
       "    </tr>\n",
       "  </thead>\n",
       "  <tbody>\n",
       "    <tr>\n",
       "      <th>0</th>\n",
       "      <td>La Asamblea Legislativa inicia su receso hasta...</td>\n",
       "      <td>[La Asamblea Legislativa Plurinacional (ALP) c...</td>\n",
       "      <td>1</td>\n",
       "    </tr>\n",
       "    <tr>\n",
       "      <th>1</th>\n",
       "      <td>William Torres Tordoya: “La independencia de p...</td>\n",
       "      <td>[El ciclo de entrevistas a los postulantes jud...</td>\n",
       "      <td>1</td>\n",
       "    </tr>\n",
       "    <tr>\n",
       "      <th>2</th>\n",
       "      <td>“El Killer” dice que sabe quiénes tienen\\n los...</td>\n",
       "      <td>[Poco después de salir de las celdas de la Fel...</td>\n",
       "      <td>0</td>\n",
       "    </tr>\n",
       "    <tr>\n",
       "      <th>3</th>\n",
       "      <td>La Asamblea Legislativa inicia su receso hasta...</td>\n",
       "      <td>[La Asamblea Legislativa Plurinacional (ALP) c...</td>\n",
       "      <td>1</td>\n",
       "    </tr>\n",
       "    <tr>\n",
       "      <th>4</th>\n",
       "      <td>Un sismo de 5.7 grados en la escala de Richter...</td>\n",
       "      <td>[Tembló Tucumán. Este lunes un sismo de magnit...</td>\n",
       "      <td>0</td>\n",
       "    </tr>\n",
       "  </tbody>\n",
       "</table>\n",
       "</div>"
      ],
      "text/plain": [
       "                                             titular  \\\n",
       "0  La Asamblea Legislativa inicia su receso hasta...   \n",
       "1  William Torres Tordoya: “La independencia de p...   \n",
       "2  “El Killer” dice que sabe quiénes tienen\\n los...   \n",
       "3  La Asamblea Legislativa inicia su receso hasta...   \n",
       "4  Un sismo de 5.7 grados en la escala de Richter...   \n",
       "\n",
       "                                              cuerpo  label  \n",
       "0  [La Asamblea Legislativa Plurinacional (ALP) c...      1  \n",
       "1  [El ciclo de entrevistas a los postulantes jud...      1  \n",
       "2  [Poco después de salir de las celdas de la Fel...      0  \n",
       "3  [La Asamblea Legislativa Plurinacional (ALP) c...      1  \n",
       "4  [Tembló Tucumán. Este lunes un sismo de magnit...      0  "
      ]
     },
     "execution_count": 7,
     "metadata": {},
     "output_type": "execute_result"
    }
   ],
   "source": [
    "# just select columns 'titular', 'cuerpo' and 'label'\n",
    "news = news[['titular', 'cuerpo', 'label']]\n",
    "news.head()"
   ]
  },
  {
   "cell_type": "code",
   "execution_count": 8,
   "metadata": {},
   "outputs": [
    {
     "name": "stdout",
     "output_type": "stream",
     "text": [
      "<class 'pandas.core.frame.DataFrame'>\n",
      "RangeIndex: 92 entries, 0 to 91\n",
      "Data columns (total 3 columns):\n",
      " #   Column   Non-Null Count  Dtype \n",
      "---  ------   --------------  ----- \n",
      " 0   titular  92 non-null     object\n",
      " 1   cuerpo   92 non-null     object\n",
      " 2   label    92 non-null     int64 \n",
      "dtypes: int64(1), object(2)\n",
      "memory usage: 2.3+ KB\n"
     ]
    }
   ],
   "source": [
    "news.info()"
   ]
  },
  {
   "cell_type": "code",
   "execution_count": 12,
   "metadata": {},
   "outputs": [
    {
     "data": {
      "text/plain": [
       "['La Asamblea Legislativa Plurinacional (ALP) comenzó este lunes el receso de sus labores hasta el 11 de julio. Sin embargo, existe una comisión de 18 senadores y 36 diputados, entre titulares y suplentes, que dará seguimiento a algunos temas.',\n",
       " 'Al interior de esa instancia queda pendiente el tratamiento de las leyes de ascensos para la Policía Boliviana y la de lucha contra la corrupción, que fueron aprobadas por Diputados y que deben ser revisadas por el Senado.',\n",
       " 'Las dos semanas de receso están enmarcadas en lo establecido en la Constitución Política del Estado (CPE), que en el parágrafo 3 del artículo 153 señala, “las sesiones ordinarias serán permanentes y contarán con dos recesos de quince días, cada uno, por año”.',\n",
       " 'Los diputados titulares que conforman parte de la comisión que continuará con sus actividades son: Freddy Mamani Laura, Patricio Mendoza Chumpe, Gustavo Vega Piña, Andrés Flores Condori, Héctor Arce Rodríguez, Jerges Mercado Suarez, Israel Huaytari Martínez,\\xa0 Miriam Martínez Michaga, Darlen Isabel Velasco Torrez, Aleida Joseff Tellez, Roy Suárez Medina, Erick Marcelo Pedraza López, Alejandra Camargo\\xa0 Tanable, Daniel Prieto Tomelitch, Lily Gladys Fernández Vargas, Mónica Sofía Torres Campuzano, Erwin Bazán Gutiérrez y Alba Moira Osinaga Rivero.',\n",
       " 'Los diputados suplentes son: Persida Trifena Abi Guaygua Tola, Amalia Antonio Sarabia, Crescencia Saldaña Acosta, José Rangel Terrazas, María Lizbeth Vargas Flores, Faustina Coa Reynaga, Casilda Cuéllar Mendoza, Quintín Villazón Garnica, Josué Ayala Sánchez, Santos Cori Perca, Javier Alejandro Machuqui Mamio, Luciana Michel Campero Chávez, Orlando Esteban Valdez López, George Fernando Komadina Rimassa, Rory Crismar Ordoñez Choque, Herbert Taboada Pérez, Laura Rojas Ayala y Henry Gutiérrez Farell.',\n",
       " 'En cuanto a la Cámara de Senadores se habilitaron a los siguientes asambleístas titulares: Andrónico Rodríguez Ledezma, Virginia Velasco Condori, Pedro Benjamín Vargas Fernández, Rubén Gutiérrez Carrizo, Isidoro Quispe Huanca, Santiago Ticona Yupanki, Rodrigo Paz Pereira, Walter Jesús Justiniano Martínez y Claudia Elena Hegües Algarañaz. Además de los senadores suplentes: Emiliana Dilma Cabrera, Hilarión Padilla Mamani, Hilda Vega Rocha, Laura Marlene Luján Condori, María Muñoz Rodríguez, Sarahí Betzabeh Reinaga la Madrid, Elizabeth Zoya Zamora Arce, Neila Velarde Salas y Javier Villavicencio Villavicencio.',\n",
       " 'Juan Ramón Quintana, uno de los más cercanos a Evo Morales, cuestiona el “premio a los policías” que se amotinaron en 2019. Desde otro sector del masismo defienden la modernización de la institución verde olivo']"
      ]
     },
     "execution_count": 12,
     "metadata": {},
     "output_type": "execute_result"
    }
   ],
   "source": [
    "news.iloc[0]['cuerpo']"
   ]
  },
  {
   "cell_type": "code",
   "execution_count": 9,
   "metadata": {},
   "outputs": [],
   "source": [
    "train_test_ratio = 0.10\n",
    "train_valid_ratio = 0.80\n",
    "\n",
    "first_n_words = 200"
   ]
  },
  {
   "cell_type": "code",
   "execution_count": 14,
   "metadata": {},
   "outputs": [
    {
     "data": {
      "text/plain": [
       "titular    La Asamblea Legislativa inicia su receso hasta...\n",
       "cuerpo     La Asamblea Legislativa Plurinacional (ALP) co...\n",
       "label                                                      1\n",
       "Name: 0, dtype: object"
      ]
     },
     "execution_count": 14,
     "metadata": {},
     "output_type": "execute_result"
    }
   ],
   "source": [
    "# join all the text in the 'cuerpo' column\n",
    "news['cuerpo'] = news['cuerpo'].apply(lambda x: ' '.join(x))\n",
    "news.iloc[0]"
   ]
  },
  {
   "cell_type": "code",
   "execution_count": 15,
   "metadata": {},
   "outputs": [
    {
     "data": {
      "text/plain": [
       "'La Asamblea Legislativa Plurinacional (ALP) comenzó este lunes el receso de sus labores hasta el 11 de julio. Sin embargo, existe una comisión de 18 senadores y 36 diputados, entre titulares y suplentes, que dará seguimiento a algunos temas. Al interior de esa instancia queda pendiente el tratamiento de las leyes de ascensos para la Policía Boliviana y la de lucha contra la corrupción, que fueron aprobadas por Diputados y que deben ser revisadas por el Senado. Las dos semanas de receso están enmarcadas en lo establecido en la Constitución Política del Estado (CPE), que en el parágrafo 3 del artículo 153 señala, “las sesiones ordinarias serán permanentes y contarán con dos recesos de quince días, cada uno, por año”. Los diputados titulares que conforman parte de la comisión que continuará con sus actividades son: Freddy Mamani Laura, Patricio Mendoza Chumpe, Gustavo Vega Piña, Andrés Flores Condori, Héctor Arce Rodríguez, Jerges Mercado Suarez, Israel Huaytari Martínez,\\xa0 Miriam Martínez Michaga, Darlen Isabel Velasco Torrez, Aleida Joseff Tellez, Roy Suárez Medina, Erick Marcelo Pedraza López, Alejandra Camargo\\xa0 Tanable, Daniel Prieto Tomelitch, Lily Gladys Fernández Vargas, Mónica Sofía Torres Campuzano, Erwin Bazán Gutiérrez y Alba Moira Osinaga Rivero. Los diputados suplentes son: Persida Trifena Abi Guaygua Tola, Amalia Antonio Sarabia, Crescencia Saldaña Acosta, José Rangel Terrazas, María Lizbeth Vargas Flores, Faustina Coa Reynaga, Casilda Cuéllar Mendoza, Quintín Villazón Garnica, Josué Ayala Sánchez, Santos Cori Perca, Javier Alejandro Machuqui Mamio, Luciana Michel Campero Chávez, Orlando Esteban Valdez López, George Fernando Komadina Rimassa, Rory Crismar Ordoñez Choque, Herbert Taboada Pérez, Laura Rojas Ayala y Henry Gutiérrez Farell. En cuanto a la Cámara de Senadores se habilitaron a los siguientes asambleístas titulares: Andrónico Rodríguez Ledezma, Virginia Velasco Condori, Pedro Benjamín Vargas Fernández, Rubén Gutiérrez Carrizo, Isidoro Quispe Huanca, Santiago Ticona Yupanki, Rodrigo Paz Pereira, Walter Jesús Justiniano Martínez y Claudia Elena Hegües Algarañaz. Además de los senadores suplentes: Emiliana Dilma Cabrera, Hilarión Padilla Mamani, Hilda Vega Rocha, Laura Marlene Luján Condori, María Muñoz Rodríguez, Sarahí Betzabeh Reinaga la Madrid, Elizabeth Zoya Zamora Arce, Neila Velarde Salas y Javier Villavicencio Villavicencio. Juan Ramón Quintana, uno de los más cercanos a Evo Morales, cuestiona el “premio a los policías” que se amotinaron en 2019. Desde otro sector del masismo defienden la modernización de la institución verde olivo'"
      ]
     },
     "execution_count": 15,
     "metadata": {},
     "output_type": "execute_result"
    }
   ],
   "source": [
    "news.iloc[0]['cuerpo']"
   ]
  },
  {
   "cell_type": "code",
   "execution_count": 16,
   "metadata": {},
   "outputs": [],
   "source": [
    "news['titletext'] = news['titular'] + ' ' + news['cuerpo']"
   ]
  },
  {
   "cell_type": "code",
   "execution_count": 17,
   "metadata": {},
   "outputs": [
    {
     "data": {
      "text/html": [
       "<div>\n",
       "<style scoped>\n",
       "    .dataframe tbody tr th:only-of-type {\n",
       "        vertical-align: middle;\n",
       "    }\n",
       "\n",
       "    .dataframe tbody tr th {\n",
       "        vertical-align: top;\n",
       "    }\n",
       "\n",
       "    .dataframe thead th {\n",
       "        text-align: right;\n",
       "    }\n",
       "</style>\n",
       "<table border=\"1\" class=\"dataframe\">\n",
       "  <thead>\n",
       "    <tr style=\"text-align: right;\">\n",
       "      <th></th>\n",
       "      <th>titular</th>\n",
       "      <th>cuerpo</th>\n",
       "      <th>label</th>\n",
       "      <th>titletext</th>\n",
       "    </tr>\n",
       "  </thead>\n",
       "  <tbody>\n",
       "    <tr>\n",
       "      <th>0</th>\n",
       "      <td>La Asamblea Legislativa inicia su receso hasta...</td>\n",
       "      <td>La Asamblea Legislativa Plurinacional (ALP) co...</td>\n",
       "      <td>1</td>\n",
       "      <td>La Asamblea Legislativa inicia su receso hasta...</td>\n",
       "    </tr>\n",
       "    <tr>\n",
       "      <th>1</th>\n",
       "      <td>William Torres Tordoya: “La independencia de p...</td>\n",
       "      <td>El ciclo de entrevistas a los postulantes judi...</td>\n",
       "      <td>1</td>\n",
       "      <td>William Torres Tordoya: “La independencia de p...</td>\n",
       "    </tr>\n",
       "    <tr>\n",
       "      <th>2</th>\n",
       "      <td>“El Killer” dice que sabe quiénes tienen\\n los...</td>\n",
       "      <td>Poco después de salir de las celdas de la Felc...</td>\n",
       "      <td>0</td>\n",
       "      <td>“El Killer” dice que sabe quiénes tienen\\n los...</td>\n",
       "    </tr>\n",
       "    <tr>\n",
       "      <th>3</th>\n",
       "      <td>La Asamblea Legislativa inicia su receso hasta...</td>\n",
       "      <td>La Asamblea Legislativa Plurinacional (ALP) co...</td>\n",
       "      <td>1</td>\n",
       "      <td>La Asamblea Legislativa inicia su receso hasta...</td>\n",
       "    </tr>\n",
       "    <tr>\n",
       "      <th>4</th>\n",
       "      <td>Un sismo de 5.7 grados en la escala de Richter...</td>\n",
       "      <td>Tembló Tucumán. Este lunes un sismo de magnitu...</td>\n",
       "      <td>0</td>\n",
       "      <td>Un sismo de 5.7 grados en la escala de Richter...</td>\n",
       "    </tr>\n",
       "  </tbody>\n",
       "</table>\n",
       "</div>"
      ],
      "text/plain": [
       "                                             titular  \\\n",
       "0  La Asamblea Legislativa inicia su receso hasta...   \n",
       "1  William Torres Tordoya: “La independencia de p...   \n",
       "2  “El Killer” dice que sabe quiénes tienen\\n los...   \n",
       "3  La Asamblea Legislativa inicia su receso hasta...   \n",
       "4  Un sismo de 5.7 grados en la escala de Richter...   \n",
       "\n",
       "                                              cuerpo  label  \\\n",
       "0  La Asamblea Legislativa Plurinacional (ALP) co...      1   \n",
       "1  El ciclo de entrevistas a los postulantes judi...      1   \n",
       "2  Poco después de salir de las celdas de la Felc...      0   \n",
       "3  La Asamblea Legislativa Plurinacional (ALP) co...      1   \n",
       "4  Tembló Tucumán. Este lunes un sismo de magnitu...      0   \n",
       "\n",
       "                                           titletext  \n",
       "0  La Asamblea Legislativa inicia su receso hasta...  \n",
       "1  William Torres Tordoya: “La independencia de p...  \n",
       "2  “El Killer” dice que sabe quiénes tienen\\n los...  \n",
       "3  La Asamblea Legislativa inicia su receso hasta...  \n",
       "4  Un sismo de 5.7 grados en la escala de Richter...  "
      ]
     },
     "execution_count": 17,
     "metadata": {},
     "output_type": "execute_result"
    }
   ],
   "source": [
    "news.head()"
   ]
  },
  {
   "cell_type": "markdown",
   "metadata": {},
   "source": [
    "In this case is not necessary to delete empty rows, because we are using a dataset with no empty rows."
   ]
  },
  {
   "cell_type": "code",
   "execution_count": 18,
   "metadata": {},
   "outputs": [],
   "source": [
    "def trim_string(x):\n",
    "\n",
    "    x = x.split(maxsplit=first_n_words)\n",
    "    x = ' '.join(x[:first_n_words])\n",
    "\n",
    "    return x"
   ]
  },
  {
   "cell_type": "code",
   "execution_count": 20,
   "metadata": {},
   "outputs": [
    {
     "data": {
      "text/html": [
       "<div>\n",
       "<style scoped>\n",
       "    .dataframe tbody tr th:only-of-type {\n",
       "        vertical-align: middle;\n",
       "    }\n",
       "\n",
       "    .dataframe tbody tr th {\n",
       "        vertical-align: top;\n",
       "    }\n",
       "\n",
       "    .dataframe thead th {\n",
       "        text-align: right;\n",
       "    }\n",
       "</style>\n",
       "<table border=\"1\" class=\"dataframe\">\n",
       "  <thead>\n",
       "    <tr style=\"text-align: right;\">\n",
       "      <th></th>\n",
       "      <th>titular</th>\n",
       "      <th>cuerpo</th>\n",
       "      <th>label</th>\n",
       "      <th>titletext</th>\n",
       "    </tr>\n",
       "  </thead>\n",
       "  <tbody>\n",
       "    <tr>\n",
       "      <th>0</th>\n",
       "      <td>La Asamblea Legislativa inicia su receso hasta...</td>\n",
       "      <td>La Asamblea Legislativa Plurinacional (ALP) co...</td>\n",
       "      <td>1</td>\n",
       "      <td>La Asamblea Legislativa inicia su receso hasta...</td>\n",
       "    </tr>\n",
       "    <tr>\n",
       "      <th>1</th>\n",
       "      <td>William Torres Tordoya: “La independencia de p...</td>\n",
       "      <td>El ciclo de entrevistas a los postulantes judi...</td>\n",
       "      <td>1</td>\n",
       "      <td>William Torres Tordoya: “La independencia de p...</td>\n",
       "    </tr>\n",
       "    <tr>\n",
       "      <th>2</th>\n",
       "      <td>“El Killer” dice que sabe quiénes tienen\\n los...</td>\n",
       "      <td>Poco después de salir de las celdas de la Felc...</td>\n",
       "      <td>0</td>\n",
       "      <td>“El Killer” dice que sabe quiénes tienen los r...</td>\n",
       "    </tr>\n",
       "    <tr>\n",
       "      <th>3</th>\n",
       "      <td>La Asamblea Legislativa inicia su receso hasta...</td>\n",
       "      <td>La Asamblea Legislativa Plurinacional (ALP) co...</td>\n",
       "      <td>1</td>\n",
       "      <td>La Asamblea Legislativa inicia su receso hasta...</td>\n",
       "    </tr>\n",
       "    <tr>\n",
       "      <th>4</th>\n",
       "      <td>Un sismo de 5.7 grados en la escala de Richter...</td>\n",
       "      <td>Tembló Tucumán. Este lunes un sismo de magnitu...</td>\n",
       "      <td>0</td>\n",
       "      <td>Un sismo de 5.7 grados en la escala de Richter...</td>\n",
       "    </tr>\n",
       "  </tbody>\n",
       "</table>\n",
       "</div>"
      ],
      "text/plain": [
       "                                             titular  \\\n",
       "0  La Asamblea Legislativa inicia su receso hasta...   \n",
       "1  William Torres Tordoya: “La independencia de p...   \n",
       "2  “El Killer” dice que sabe quiénes tienen\\n los...   \n",
       "3  La Asamblea Legislativa inicia su receso hasta...   \n",
       "4  Un sismo de 5.7 grados en la escala de Richter...   \n",
       "\n",
       "                                              cuerpo  label  \\\n",
       "0  La Asamblea Legislativa Plurinacional (ALP) co...      1   \n",
       "1  El ciclo de entrevistas a los postulantes judi...      1   \n",
       "2  Poco después de salir de las celdas de la Felc...      0   \n",
       "3  La Asamblea Legislativa Plurinacional (ALP) co...      1   \n",
       "4  Tembló Tucumán. Este lunes un sismo de magnitu...      0   \n",
       "\n",
       "                                           titletext  \n",
       "0  La Asamblea Legislativa inicia su receso hasta...  \n",
       "1  William Torres Tordoya: “La independencia de p...  \n",
       "2  “El Killer” dice que sabe quiénes tienen los r...  \n",
       "3  La Asamblea Legislativa inicia su receso hasta...  \n",
       "4  Un sismo de 5.7 grados en la escala de Richter...  "
      ]
     },
     "execution_count": 20,
     "metadata": {},
     "output_type": "execute_result"
    }
   ],
   "source": [
    "news['cuerpo'] = news['cuerpo'].apply(trim_string)\n",
    "news['titletext'] = news['titletext'].apply(trim_string) \n",
    "news.head()"
   ]
  },
  {
   "cell_type": "code",
   "execution_count": 22,
   "metadata": {},
   "outputs": [
    {
     "data": {
      "text/html": [
       "<div>\n",
       "<style scoped>\n",
       "    .dataframe tbody tr th:only-of-type {\n",
       "        vertical-align: middle;\n",
       "    }\n",
       "\n",
       "    .dataframe tbody tr th {\n",
       "        vertical-align: top;\n",
       "    }\n",
       "\n",
       "    .dataframe thead th {\n",
       "        text-align: right;\n",
       "    }\n",
       "</style>\n",
       "<table border=\"1\" class=\"dataframe\">\n",
       "  <thead>\n",
       "    <tr style=\"text-align: right;\">\n",
       "      <th></th>\n",
       "      <th>titular</th>\n",
       "      <th>cuerpo</th>\n",
       "      <th>label</th>\n",
       "      <th>titletext</th>\n",
       "    </tr>\n",
       "  </thead>\n",
       "  <tbody>\n",
       "    <tr>\n",
       "      <th>0</th>\n",
       "      <td>La Asamblea Legislativa inicia su receso hasta...</td>\n",
       "      <td>La Asamblea Legislativa Plurinacional (ALP) co...</td>\n",
       "      <td>1</td>\n",
       "      <td>La Asamblea Legislativa inicia su receso hasta...</td>\n",
       "    </tr>\n",
       "    <tr>\n",
       "      <th>1</th>\n",
       "      <td>William Torres Tordoya: “La independencia de p...</td>\n",
       "      <td>El ciclo de entrevistas a los postulantes judi...</td>\n",
       "      <td>1</td>\n",
       "      <td>William Torres Tordoya: “La independencia de p...</td>\n",
       "    </tr>\n",
       "    <tr>\n",
       "      <th>3</th>\n",
       "      <td>La Asamblea Legislativa inicia su receso hasta...</td>\n",
       "      <td>La Asamblea Legislativa Plurinacional (ALP) co...</td>\n",
       "      <td>1</td>\n",
       "      <td>La Asamblea Legislativa inicia su receso hasta...</td>\n",
       "    </tr>\n",
       "    <tr>\n",
       "      <th>10</th>\n",
       "      <td>La Asamblea Legislativa inicia su receso hasta...</td>\n",
       "      <td>La Asamblea Legislativa Plurinacional (ALP) co...</td>\n",
       "      <td>1</td>\n",
       "      <td>La Asamblea Legislativa inicia su receso hasta...</td>\n",
       "    </tr>\n",
       "    <tr>\n",
       "      <th>11</th>\n",
       "      <td>La Asamblea Legislativa inicia su receso hasta...</td>\n",
       "      <td>La Asamblea Legislativa Plurinacional (ALP) co...</td>\n",
       "      <td>1</td>\n",
       "      <td>La Asamblea Legislativa inicia su receso hasta...</td>\n",
       "    </tr>\n",
       "  </tbody>\n",
       "</table>\n",
       "</div>"
      ],
      "text/plain": [
       "                                              titular  \\\n",
       "0   La Asamblea Legislativa inicia su receso hasta...   \n",
       "1   William Torres Tordoya: “La independencia de p...   \n",
       "3   La Asamblea Legislativa inicia su receso hasta...   \n",
       "10  La Asamblea Legislativa inicia su receso hasta...   \n",
       "11  La Asamblea Legislativa inicia su receso hasta...   \n",
       "\n",
       "                                               cuerpo  label  \\\n",
       "0   La Asamblea Legislativa Plurinacional (ALP) co...      1   \n",
       "1   El ciclo de entrevistas a los postulantes judi...      1   \n",
       "3   La Asamblea Legislativa Plurinacional (ALP) co...      1   \n",
       "10  La Asamblea Legislativa Plurinacional (ALP) co...      1   \n",
       "11  La Asamblea Legislativa Plurinacional (ALP) co...      1   \n",
       "\n",
       "                                            titletext  \n",
       "0   La Asamblea Legislativa inicia su receso hasta...  \n",
       "1   William Torres Tordoya: “La independencia de p...  \n",
       "3   La Asamblea Legislativa inicia su receso hasta...  \n",
       "10  La Asamblea Legislativa inicia su receso hasta...  \n",
       "11  La Asamblea Legislativa inicia su receso hasta...  "
      ]
     },
     "execution_count": 22,
     "metadata": {},
     "output_type": "execute_result"
    }
   ],
   "source": [
    "# where 0 is a news that we want to filter\n",
    "news_1 = news[news['label'] == 1]\n",
    "news_0 = news[news['label'] == 0]\n",
    "news_1.head()"
   ]
  },
  {
   "cell_type": "code",
   "execution_count": 25,
   "metadata": {},
   "outputs": [
    {
     "name": "stdout",
     "output_type": "stream",
     "text": [
      "(8, 4)\n",
      "(33, 4)\n",
      "(5, 4)\n",
      "(8, 4)\n",
      "(33, 4)\n",
      "(5, 4)\n"
     ]
    }
   ],
   "source": [
    "# train test split\n",
    "news_1_full_train, news_1_test = train_test_split(news_1, test_size=train_test_ratio, random_state=1)\n",
    "news_0_full_train, news_0_test = train_test_split(news_0, test_size=train_test_ratio, random_state=1)\n",
    "\n",
    "# train valid split\n",
    "news_1_train, news_1_valid = train_test_split(news_1_full_train, test_size=train_valid_ratio, random_state=1)\n",
    "news_0_train, news_0_valid = train_test_split(news_0_full_train, test_size=train_valid_ratio, random_state=1)\n",
    "\n",
    "print(news_1_train.shape)\n",
    "print(news_1_valid.shape)\n",
    "print(news_1_test.shape)\n",
    "\n",
    "print(news_0_train.shape)\n",
    "print(news_0_valid.shape)\n",
    "print(news_0_test.shape)"
   ]
  },
  {
   "cell_type": "code",
   "execution_count": 26,
   "metadata": {},
   "outputs": [
    {
     "name": "stdout",
     "output_type": "stream",
     "text": [
      "(16, 4)\n",
      "(66, 4)\n",
      "(10, 4)\n"
     ]
    }
   ],
   "source": [
    "# concatenate splits\n",
    "news_train = pd.concat([news_1_train, news_0_train], ignore_index=True, sort=False)\n",
    "news_valid = pd.concat([news_1_valid, news_0_valid], ignore_index=True, sort=False)\n",
    "news_test = pd.concat([news_1_test, news_0_test], ignore_index=True, sort=False)\n",
    "\n",
    "print(news_train.shape)\n",
    "print(news_valid.shape)\n",
    "print(news_test.shape)"
   ]
  },
  {
   "cell_type": "code",
   "execution_count": 34,
   "metadata": {},
   "outputs": [],
   "source": [
    "# export to json\n",
    "news_train.to_json('../data/processed/train.json', orient='records', lines=True)\n",
    "news_valid.to_json('../data/processed/valid.json', orient='records', lines=True)\n",
    "news_test.to_json('../data/processed/test.json', orient='records', lines=True)"
   ]
  },
  {
   "cell_type": "code",
   "execution_count": null,
   "metadata": {},
   "outputs": [],
   "source": []
  }
 ],
 "metadata": {
  "kernelspec": {
   "display_name": "Python 3.8.13 ('base')",
   "language": "python",
   "name": "python3"
  },
  "language_info": {
   "codemirror_mode": {
    "name": "ipython",
    "version": 3
   },
   "file_extension": ".py",
   "mimetype": "text/x-python",
   "name": "python",
   "nbconvert_exporter": "python",
   "pygments_lexer": "ipython3",
   "version": "3.8.13"
  },
  "orig_nbformat": 4,
  "vscode": {
   "interpreter": {
    "hash": "ff4f85d6e04298634172ac5d8264e7e9b556b95639fe52ebb9425c4d4cba0c9c"
   }
  }
 },
 "nbformat": 4,
 "nbformat_minor": 2
}
